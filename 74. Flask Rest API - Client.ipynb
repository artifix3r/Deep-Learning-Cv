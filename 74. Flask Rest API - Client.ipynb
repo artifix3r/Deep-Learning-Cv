{
 "cells": [
  {
   "cell_type": "markdown",
   "metadata": {
    "id": "QX5JwkprCCnv"
   },
   "source": [
    "\n",
    "\n",
    "# **Flask RestAPI Server**"
   ]
  },
  {
   "cell_type": "code",
   "execution_count": 3,
   "metadata": {
    "colab": {
     "base_uri": "https://localhost:8080/"
    },
    "executionInfo": {
     "elapsed": 8,
     "status": "ok",
     "timestamp": 1644266193067,
     "user": {
      "displayName": "Rajeev Ratan",
      "photoUrl": "https://lh3.googleusercontent.com/a-/AOh14GgtO-hUyDqrPmYR3HGcaXMtwRIq1ObsdPjhiGDSWSw=s64",
      "userId": "08597265227091462140"
     },
     "user_tz": 0
    },
    "id": "Ycv54XMJ5zt3",
    "outputId": "80fe53c5-da39-47fb-fd8c-8b84b74f0663"
   },
   "outputs": [
    {
     "name": "stdout",
     "output_type": "stream",
     "text": [
      "--2022-02-07 20:36:32--  https://raw.githubusercontent.com/rajeevratan84/ModernComputerVision/main/bird.jpg\n",
      "Resolving raw.githubusercontent.com (raw.githubusercontent.com)... 185.199.109.133, 185.199.108.133, 185.199.111.133, ...\n",
      "Connecting to raw.githubusercontent.com (raw.githubusercontent.com)|185.199.109.133|:443... connected.\n",
      "HTTP request sent, awaiting response... 200 OK\n",
      "Length: 57958 (57K) [image/jpeg]\n",
      "Saving to: ‘bird.jpg.1’\n",
      "\n",
      "\r",
      "bird.jpg.1            0%[                    ]       0  --.-KB/s               \r",
      "bird.jpg.1          100%[===================>]  56.60K  --.-KB/s    in 0.01s   \n",
      "\n",
      "2022-02-07 20:36:32 (5.09 MB/s) - ‘bird.jpg.1’ saved [57958/57958]\n",
      "\n"
     ]
    }
   ],
   "source": [
    "!wget https://raw.githubusercontent.com/rajeevratan84/ModernComputerVision/main/bird.jpg"
   ]
  },
  {
   "cell_type": "code",
   "execution_count": 4,
   "metadata": {
    "colab": {
     "base_uri": "https://localhost:8080/"
    },
    "executionInfo": {
     "elapsed": 1044,
     "status": "ok",
     "timestamp": 1644266205906,
     "user": {
      "displayName": "Rajeev Ratan",
      "photoUrl": "https://lh3.googleusercontent.com/a-/AOh14GgtO-hUyDqrPmYR3HGcaXMtwRIq1ObsdPjhiGDSWSw=s64",
      "userId": "08597265227091462140"
     },
     "user_tz": 0
    },
    "id": "tFXP7hfj52ZX",
    "outputId": "7fb6d227-2991-4032-ae52-3dacaa659552"
   },
   "outputs": [
    {
     "name": "stdout",
     "output_type": "stream",
     "text": [
      "{'class_id': 'n01820546', 'class_name': 'lorikeet'}\n"
     ]
    }
   ],
   "source": [
    "import requests\n",
    "\n",
    "resp = requests.post(\"http://f6eb-34-71-59-16.ngrok.io/predict\",\n",
    "                     files={\"file\": open('bird.jpg','rb')})\n",
    "\n",
    "print(resp.json())"
   ]
  }
 ],
 "metadata": {
  "colab": {
   "authorship_tag": "ABX9TyObQ7YF0lqq/+rZ3VLhQ9Vm",
   "collapsed_sections": [],
   "name": "74. Flask Rest API - Client.ipynb",
   "provenance": []
  },
  "kernelspec": {
   "display_name": "Python 3 (ipykernel)",
   "language": "python",
   "name": "python3"
  },
  "language_info": {
   "codemirror_mode": {
    "name": "ipython",
    "version": 3
   },
   "file_extension": ".py",
   "mimetype": "text/x-python",
   "name": "python",
   "nbconvert_exporter": "python",
   "pygments_lexer": "ipython3",
   "version": "3.9.12"
  }
 },
 "nbformat": 4,
 "nbformat_minor": 1
}
